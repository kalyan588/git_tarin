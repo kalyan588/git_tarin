{
 "cells": [
  {
   "cell_type": "code",
   "execution_count": 11,
   "id": "28642c5c-4292-4450-aa07-24a72c45bea3",
   "metadata": {},
   "outputs": [],
   "source": [
    "__str__ = 1"
   ]
  },
  {
   "cell_type": "code",
   "execution_count": 12,
   "id": "fc388d59-2c51-4d9f-aa17-a7293357e486",
   "metadata": {},
   "outputs": [],
   "source": [
    "_a = 1\n",
    "\n",
    "__a = 1\n",
    "\n",
    "__str__ = 1"
   ]
  },
  {
   "cell_type": "code",
   "execution_count": 4,
   "id": "915e5a03-c940-4038-8f2d-fe1320e091cb",
   "metadata": {},
   "outputs": [
    {
     "data": {
      "text/plain": [
       "'0b10000b1000'"
      ]
     },
     "execution_count": 4,
     "metadata": {},
     "output_type": "execute_result"
    }
   ],
   "source": [
    "bin(10-2)+bin(12^4)"
   ]
  },
  {
   "cell_type": "code",
   "execution_count": 13,
   "id": "4a8acba6-8a0c-4fa7-8677-3104dfa837ba",
   "metadata": {},
   "outputs": [
    {
     "name": "stdout",
     "output_type": "stream",
     "text": [
      "m, y,  , w, o, r, k,  , i, s,  , x, "
     ]
    }
   ],
   "source": [
    "string = \"my work is x\" \n",
    "for i in ' '.join(string.split()):\n",
    "    print (i, end=\", \")"
   ]
  },
  {
   "cell_type": "code",
   "execution_count": 14,
   "id": "58f44fca-3f55-426b-b1c5-09185d0981ab",
   "metadata": {},
   "outputs": [
    {
     "name": "stdout",
     "output_type": "stream",
     "text": [
      "0 a\n",
      "1 b\n",
      "2 c\n"
     ]
    }
   ],
   "source": [
    "d = {0: 'a', 1: 'b', 2: 'c'}\n",
    "for x, y in d.items():\n",
    "    print(x, y)"
   ]
  },
  {
   "cell_type": "code",
   "execution_count": 17,
   "id": "74f2cf95-69d4-4102-92fb-c8e0874e898c",
   "metadata": {},
   "outputs": [
    {
     "name": "stdout",
     "output_type": "stream",
     "text": [
      "12\n"
     ]
    }
   ],
   "source": [
    "a=165\n",
    "b=sum(list(map(int,str(a)))) \n",
    "print(b)"
   ]
  },
  {
   "cell_type": "code",
   "execution_count": 18,
   "id": "c6333a2a-4ac4-414b-8e74-978528287b16",
   "metadata": {},
   "outputs": [],
   "source": [
    "x = 0b101\n",
    "\n"
   ]
  },
  {
   "cell_type": "code",
   "execution_count": 19,
   "id": "dcbacd0f-00b5-40c7-ba98-b2915d086650",
   "metadata": {},
   "outputs": [],
   "source": [
    "x = 0x4f5\n",
    "\n"
   ]
  },
  {
   "cell_type": "code",
   "execution_count": 20,
   "id": "c292d076-fb0a-4094-96d3-bfc554f8f68d",
   "metadata": {},
   "outputs": [],
   "source": [
    "x = 19023\n",
    "\n"
   ]
  },
  {
   "cell_type": "code",
   "execution_count": 22,
   "id": "ed4a11a9-9bf7-4a83-9c0d-dcd52b2709e3",
   "metadata": {},
   "outputs": [
    {
     "name": "stdout",
     "output_type": "stream",
     "text": [
      "[1, 2, 3, 4]\n"
     ]
    }
   ],
   "source": [
    "lst=[[1,2],[3,4]] \n",
    "print(sum(lst,[]))"
   ]
  },
  {
   "cell_type": "code",
   "execution_count": null,
   "id": "702a3f19-1593-47ca-9763-2268aa12aaff",
   "metadata": {},
   "outputs": [],
   "source": []
  }
 ],
 "metadata": {
  "kernelspec": {
   "display_name": "Python 3 (ipykernel)",
   "language": "python",
   "name": "python3"
  },
  "language_info": {
   "codemirror_mode": {
    "name": "ipython",
    "version": 3
   },
   "file_extension": ".py",
   "mimetype": "text/x-python",
   "name": "python",
   "nbconvert_exporter": "python",
   "pygments_lexer": "ipython3",
   "version": "3.12.0"
  }
 },
 "nbformat": 4,
 "nbformat_minor": 5
}
