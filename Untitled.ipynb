{
 "cells": [
  {
   "cell_type": "code",
   "execution_count": 24,
   "id": "8086c869-c49f-4ca0-a02d-5270796f1eff",
   "metadata": {},
   "outputs": [
    {
     "name": "stdout",
     "output_type": "stream",
     "text": [
      "    January 1999\n",
      "Su Mo Tu We Th Fr Sa\n",
      "                1  2\n",
      " 3  4  5  6  7  8  9\n",
      "10 11 12 13 14 15 16\n",
      "17 18 19 20 21 22 23\n",
      "24 25 26 27 28 29 30\n",
      "31\n",
      "\n"
     ]
    }
   ],
   "source": [
    "import calendar\n",
    "\n",
    "year = 1999\n",
    "\n",
    "cal = calendar.TextCalendar(calendar.SUNDAY)  \n",
    "for month in range(1,2):    \n",
    "    print(cal.formatmonth(year, month))\n"
   ]
  },
  {
   "cell_type": "code",
   "execution_count": 32,
   "id": "0d3ee681-4c40-43fa-adfa-781cf4b3e622",
   "metadata": {
    "scrolled": true
   },
   "outputs": [
    {
     "name": "stdout",
     "output_type": "stream",
     "text": [
      "prime\n"
     ]
    }
   ],
   "source": [
    "n=13\n",
    "\n",
    "if n>1:\n",
    "    for i in range(2,n//2+1):\n",
    "        if n%i==0:\n",
    "            print('not a prime')\n",
    "            break\n",
    "    else:\n",
    "        print('prime')\n",
    "else:\n",
    "    print('not prime')\n",
    "   "
   ]
  },
  {
   "cell_type": "code",
   "execution_count": 33,
   "id": "35561272-8060-4875-8d86-4b9f82c0902d",
   "metadata": {},
   "outputs": [
    {
     "name": "stdout",
     "output_type": "stream",
     "text": [
      "0 --> 0\n",
      "1 --> 1\n",
      "2 --> 4\n",
      "3 --> 9\n",
      "4 --> 16\n",
      "5 --> 25\n",
      "6 --> 36\n",
      "7 --> 49\n",
      "8 --> 64\n",
      "9 --> 81\n"
     ]
    }
   ],
   "source": [
    "for i in range(10):\n",
    "    print(i,'-->',i**2)"
   ]
  },
  {
   "cell_type": "code",
   "execution_count": 37,
   "id": "83ab1a1e-a7c1-4264-bbc4-70b09346cf69",
   "metadata": {},
   "outputs": [
    {
     "name": "stdout",
     "output_type": "stream",
     "text": [
      "[8, 13, 18, 23, 28, 33, 38, 43, 48]\n",
      "{33, 38, 8, 43, 13, 48, 18, 23, 28}\n"
     ]
    }
   ],
   "source": [
    "l=[]\n",
    "for i in range(5,50):\n",
    "    if i%5==3:\n",
    "        l.append(i)\n",
    "print(l)\n",
    "print(set(l))\n",
    "        "
   ]
  },
  {
   "cell_type": "code",
   "execution_count": 38,
   "id": "47e50b21-0976-4f6d-90a7-75f594d23efb",
   "metadata": {},
   "outputs": [
    {
     "ename": "TypeError",
     "evalue": "'float' object cannot be interpreted as an integer",
     "output_type": "error",
     "traceback": [
      "\u001b[0;31m---------------------------------------------------------------------------\u001b[0m",
      "\u001b[0;31mTypeError\u001b[0m                                 Traceback (most recent call last)",
      "Cell \u001b[0;32mIn[38], line 1\u001b[0m\n\u001b[0;32m----> 1\u001b[0m \u001b[38;5;28;01mfor\u001b[39;00m i \u001b[38;5;129;01min\u001b[39;00m \u001b[38;5;28;43mrange\u001b[39;49m\u001b[43m(\u001b[49m\u001b[38;5;241;43m1.0\u001b[39;49m\u001b[43m,\u001b[49m\u001b[38;5;241;43m10.0\u001b[39;49m\u001b[43m)\u001b[49m:\n\u001b[1;32m      2\u001b[0m     \u001b[38;5;28mprint\u001b[39m(i,\u001b[38;5;28mtype\u001b[39m(i))\n",
      "\u001b[0;31mTypeError\u001b[0m: 'float' object cannot be interpreted as an integer"
     ]
    }
   ],
   "source": [
    "for i in range(1.0,10.0):\n",
    "    print(i,type(i))"
   ]
  },
  {
   "cell_type": "code",
   "execution_count": 42,
   "id": "ac1a7907-4b6e-424b-bfe4-f0a20e1e4557",
   "metadata": {},
   "outputs": [
    {
     "name": "stdout",
     "output_type": "stream",
     "text": [
      "PYTHON PROGRAMMER! - 1984\n"
     ]
    }
   ],
   "source": [
    "a='python programmer! - 1984'\n",
    "s=''\n",
    "for i in a:\n",
    "    s+=i.upper()\n",
    "print(s)\n",
    "    \n"
   ]
  },
  {
   "cell_type": "code",
   "execution_count": 43,
   "id": "16718803-5ca2-49be-9213-a2502d558641",
   "metadata": {},
   "outputs": [
    {
     "name": "stdout",
     "output_type": "stream",
     "text": [
      "PYTHON PROGRAMMER! - 1984\n"
     ]
    }
   ],
   "source": [
    "a='python programmer! - 1984'\n",
    "s=''\n",
    "for i in range(len(a)):\n",
    "    s+=a[i].upper()\n",
    "print(s)\n",
    "    \n"
   ]
  },
  {
   "cell_type": "code",
   "execution_count": 51,
   "id": "5da97b46-41c7-4c32-a220-2508a7be5141",
   "metadata": {},
   "outputs": [
    {
     "name": "stdout",
     "output_type": "stream",
     "text": [
      "hello <<--------->> <class 'str'>\n",
      "4 <<--------->> <class 'int'>\n",
      "56.7 <<--------->> <class 'float'>\n",
      "z <<--------->> <class 'str'>\n",
      "[1, 2, 3] <<--------->> <class 'list'>\n",
      "{'a': 27, 'b': 98} <<--------->> <class 'dict'>\n"
     ]
    }
   ],
   "source": [
    "a=['hello',4,56.7,'z',[1,2,3],{'a':27,'b':98}]\n",
    "for i in a:\n",
    "    print(i,'<<--------->>',type(i))"
   ]
  },
  {
   "cell_type": "code",
   "execution_count": 54,
   "id": "1c4096e2-b2c5-4f56-bb4a-190f2dc5faf0",
   "metadata": {},
   "outputs": [
    {
     "name": "stdout",
     "output_type": "stream",
     "text": [
      "4\n"
     ]
    }
   ],
   "source": [
    "a=['hello',4,56.7,'z',[1,2,3],{'a':27,'b':98}]\n",
    "for i in a:\n",
    "    if type(i) == type(1) :\n",
    "        print(i)"
   ]
  },
  {
   "cell_type": "code",
   "execution_count": 56,
   "id": "e1e178b7-ad7a-4848-83cf-3a53d9dc6deb",
   "metadata": {},
   "outputs": [
    {
     "name": "stdout",
     "output_type": "stream",
     "text": [
      "3 ----- -62\n",
      "2 ----- -63\n",
      "4 ----- -61\n",
      "5 ----- -60\n",
      "1 ----- -64\n"
     ]
    }
   ],
   "source": [
    "a={'1',2,'3',4,5}\n",
    "for i in a:\n",
    "    print(i,'-----' ,int(i)-65)"
   ]
  },
  {
   "cell_type": "code",
   "execution_count": 64,
   "id": "eee5f1ef-8710-4ebc-bb5a-50fe48ccedce",
   "metadata": {},
   "outputs": [
    {
     "name": "stdout",
     "output_type": "stream",
     "text": [
      "1   :   one\n",
      "2   :   (4+6j)\n",
      "56.9   :   age\n",
      "4   :   [1, 'h', 'z']\n"
     ]
    }
   ],
   "source": [
    "d={1:'one','2':4+6j,56.9:'age',4:[1,'h','z']}\n",
    "for i in d:\n",
    "    print(str(i)+ ' ' *3  +':'+' '*3+str(d[i]))"
   ]
  },
  {
   "cell_type": "code",
   "execution_count": 66,
   "id": "f45440bf-7fb7-4a90-a43b-23082a30d14e",
   "metadata": {},
   "outputs": [
    {
     "name": "stdout",
     "output_type": "stream",
     "text": [
      "WELCOME.....!--5\n",
      "WELCOME.....!--4\n",
      "WELCOME.....!--3\n",
      "WELCOME.....!--2\n",
      "WELCOME.....!--1\n",
      "WELCOME.....!--0\n"
     ]
    }
   ],
   "source": [
    "i=False\n",
    "a=5\n",
    "while i!=True:\n",
    "    print(f'WELCOME.....!--{a}')\n",
    "    if a==0:\n",
    "        i=True\n",
    "    a-=1"
   ]
  },
  {
   "cell_type": "code",
   "execution_count": 67,
   "id": "2a0bdb81-3792-4b2b-a96f-f4c26b4aa4ee",
   "metadata": {},
   "outputs": [
    {
     "name": "stdout",
     "output_type": "stream",
     "text": [
      "5\n",
      "4\n",
      "3\n",
      "2\n",
      "1\n"
     ]
    }
   ],
   "source": [
    "n=5\n",
    "while n!=0:\n",
    "    print(n)\n",
    "    n=n-1"
   ]
  },
  {
   "cell_type": "code",
   "execution_count": 84,
   "id": "96d97a5f-1eef-486d-b787-63cb59f0bb4f",
   "metadata": {
    "editable": true,
    "slideshow": {
     "slide_type": ""
    },
    "tags": []
   },
   "outputs": [
    {
     "name": "stdout",
     "output_type": "stream",
     "text": [
      "11:36:33.928578\n",
      "inside function\n",
      "11:36:33.929047\n"
     ]
    }
   ],
   "source": [
    "import datetime\n",
    "\n",
    "def function_one():\n",
    "    current_datetime = datetime.datetime.now()\n",
    "    before_time=current_datetime.time()\n",
    "    print(before_time)\n",
    "    print('inside function')\n",
    "    current_datetime = datetime.datetime.now()\n",
    "    after_time=current_datetime.time()\n",
    "    print(after_time)\n",
    "    \n",
    "function_one()"
   ]
  },
  {
   "cell_type": "code",
   "execution_count": 87,
   "id": "8b7e599c-d199-4210-8abf-7158bcf3c40a",
   "metadata": {},
   "outputs": [
    {
     "data": {
      "text/plain": [
       "<generator object add at 0x112be4e10>"
      ]
     },
     "execution_count": 87,
     "metadata": {},
     "output_type": "execute_result"
    }
   ],
   "source": [
    "def add(x,y):\n",
    "    a=x+y\n",
    "    return a\n",
    "    b=x-y\n",
    "    return b\n",
    "add(10,20)"
   ]
  },
  {
   "cell_type": "code",
   "execution_count": 89,
   "id": "a22429ee-18e6-4b32-9fcf-b73c6e51b16e",
   "metadata": {},
   "outputs": [
    {
     "name": "stdout",
     "output_type": "stream",
     "text": [
      "15\n"
     ]
    }
   ],
   "source": [
    "x=lambda x,y:x+y\n",
    "print(x(5,10))"
   ]
  },
  {
   "cell_type": "code",
   "execution_count": 98,
   "id": "17a48b22-1517-4abd-bf00-af1d5c8c9b51",
   "metadata": {},
   "outputs": [
    {
     "data": {
      "text/plain": [
       "[1, 4, 9, 16, 25, 36, 49, 64, 81, 100]"
      ]
     },
     "execution_count": 98,
     "metadata": {},
     "output_type": "execute_result"
    }
   ],
   "source": [
    "def mull(n):\n",
    "    return n*n\n",
    "l=[1,2,3,4,5,6,7,8,9,10]    \n",
    "\n",
    "a= map (mull,l)\n",
    "list(a)\n"
   ]
  },
  {
   "cell_type": "code",
   "execution_count": 101,
   "id": "2aa48fce-6796-4707-985c-31a413319479",
   "metadata": {},
   "outputs": [
    {
     "data": {
      "text/plain": [
       "[2, 4, 6, 8, 10]"
      ]
     },
     "execution_count": 101,
     "metadata": {},
     "output_type": "execute_result"
    }
   ],
   "source": [
    "def even(n):\n",
    "    if n%2==0:\n",
    "        return True\n",
    "    else:\n",
    "        return False\n",
    "n=[1,2,3,4,5,6,7,8,9,10]    \n",
    "\n",
    "x=filter(even,n)\n",
    "list(x)"
   ]
  },
  {
   "cell_type": "code",
   "execution_count": 102,
   "id": "44c653e2-dda9-4c8e-8b1b-f3a18327b7c1",
   "metadata": {},
   "outputs": [
    {
     "data": {
      "text/plain": [
       "30"
      ]
     },
     "execution_count": 102,
     "metadata": {},
     "output_type": "execute_result"
    }
   ],
   "source": [
    "a,b=10,20\n",
    "x=lambda x,y:x+y\n",
    "x(a,b)"
   ]
  },
  {
   "cell_type": "code",
   "execution_count": 104,
   "id": "8a75be28-53ac-4970-b054-c7773c89f6b1",
   "metadata": {},
   "outputs": [
    {
     "data": {
      "text/plain": [
       "30"
      ]
     },
     "execution_count": 104,
     "metadata": {},
     "output_type": "execute_result"
    }
   ],
   "source": [
    "def lam(a,b):\n",
    "    return a+b\n",
    "lam(10,20)"
   ]
  },
  {
   "cell_type": "code",
   "execution_count": 108,
   "id": "cd02151b-314b-423f-ac13-2221817bccba",
   "metadata": {},
   "outputs": [
    {
     "name": "stdout",
     "output_type": "stream",
     "text": [
      "3 2 3\n"
     ]
    }
   ],
   "source": [
    "def val(a,b,c):\n",
    "    print(a,b,c)\n",
    "val(3,2,3)\n"
   ]
  },
  {
   "cell_type": "code",
   "execution_count": 110,
   "id": "a6971a87-2ed4-4a48-8817-9c3ec89c8c15",
   "metadata": {},
   "outputs": [
    {
     "name": "stdout",
     "output_type": "stream",
     "text": [
      "3 2 1\n"
     ]
    }
   ],
   "source": [
    "def val(a,b,c):\n",
    "    print(a,b,c)\n",
    "\n",
    "val(a=3,b=2,c=1)"
   ]
  },
  {
   "cell_type": "code",
   "execution_count": 116,
   "id": "aa978c70-c0f8-47ac-889a-8274ca29802b",
   "metadata": {},
   "outputs": [
    {
     "name": "stdout",
     "output_type": "stream",
     "text": [
      "1\n",
      "2\n",
      "3\n",
      "4\n",
      "5\n"
     ]
    }
   ],
   "source": [
    "def val(a=0):\n",
    "    print(a)\n",
    "l=[1,2,3,4,5]\n",
    "for i in l:\n",
    "    val(i)"
   ]
  },
  {
   "cell_type": "code",
   "execution_count": 117,
   "id": "158e16f0-b756-44b4-a2a8-e64a7b341f24",
   "metadata": {},
   "outputs": [
    {
     "data": {
      "text/plain": [
       "[int, int, int, int]"
      ]
     },
     "execution_count": 117,
     "metadata": {},
     "output_type": "execute_result"
    }
   ],
   "source": [
    "def fun(a):\n",
    "    return type(a)\n",
    "l=[1,2,3,4]\n",
    "list(map(fun,l))"
   ]
  },
  {
   "cell_type": "code",
   "execution_count": null,
   "id": "0a8e4b0b-3558-4ab6-8312-1caf8010919e",
   "metadata": {},
   "outputs": [],
   "source": []
  }
 ],
 "metadata": {
  "kernelspec": {
   "display_name": "Python 3 (ipykernel)",
   "language": "python",
   "name": "python3"
  },
  "language_info": {
   "codemirror_mode": {
    "name": "ipython",
    "version": 3
   },
   "file_extension": ".py",
   "mimetype": "text/x-python",
   "name": "python",
   "nbconvert_exporter": "python",
   "pygments_lexer": "ipython3",
   "version": "3.12.0"
  }
 },
 "nbformat": 4,
 "nbformat_minor": 5
}
